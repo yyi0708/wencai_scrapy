{
 "cells": [
  {
   "cell_type": "code",
   "execution_count": 6,
   "metadata": {},
   "outputs": [
    {
     "name": "stdout",
     "output_type": "stream",
     "text": [
      "新文本记录已创建，ID: 67e4bb4c91ebe388f7f2\n",
      "已有记录的 ID: 67e4b8db080a4c96fad6\n"
     ]
    }
   ],
   "source": [
    "from appwrite.client import Client\n",
    "from appwrite.services.databases import Databases\n",
    "from appwrite.query import Query\n",
    "\n",
    "import os\n",
    "import random\n",
    "from dotenv import load_dotenv\n",
    "\n",
    "load_dotenv()\n",
    "\n",
    "client = Client()\n",
    "client.set_endpoint(os.getenv(\"ENDPOINT_ADRESS\"))  # Your API Endpoint\n",
    "client.set_project(os.getenv(\"PROJECT_ID\"))  # Your project ID\n",
    "client.set_key(os.getenv(\"API_KEY\"))  # Your secret API key\n",
    "\n",
    "db: Databases = Databases(client)\n",
    "databseId = \"wencai\"\n",
    "\n",
    "type_collection_id = \"types\"\n",
    "documents = db.list_documents(databseId, type_collection_id, queries=[Query.equal(\"name\", \"经典\")])\n",
    "existing_document_id = \"\"\n",
    "\n",
    "if documents[\"total\"] == 0:\n",
    "    # 创建新记录\n",
    "    new_document = db.create_document(\n",
    "        databseId,  # Database ID\n",
    "        type_collection_id,  # Collection ID\n",
    "        document_id=\"unique()\",  # Generate a unique ID\n",
    "        data={\"name\": \"经典\"}  # Data for the new document\n",
    "    )\n",
    "    existing_document_id = new_document[\"$id\"]\n",
    "    print(\"新记录已创建，ID:\", new_document[\"$id\"])\n",
    "else:\n",
    "    # 返回已有记录的 ID\n",
    "    existing_document_id = documents[\"documents\"][0][\"$id\"]\n",
    "\n",
    "# 创建新文本记录并关联标签 ID\n",
    "text_collection_id = \"texts\"\n",
    "\n",
    "text_documents = db.list_documents(\n",
    "    databseId,  # Database ID\n",
    "    text_collection_id,  # Collection ID\n",
    "    queries=[Query.equal(\"content\", \"类似的内容\")] \n",
    ")\n",
    "\n",
    "if text_documents[\"total\"] == 0:\n",
    "    # 创建新记录并关联标签 ID\n",
    "    new_text_document = db.create_document(\n",
    "        databseId,  # Database ID\n",
    "        text_collection_id,  # Collection ID\n",
    "        document_id=\"unique()\",  # Generate a unique ID\n",
    "        data={\"content\": \"类似的内容\", \"userId\": \"2\", \"types\": [existing_document_id], \"isPublic\": True}  # Data for the new document\n",
    "    )\n",
    "    print(\"新文本记录已创建，ID:\", new_text_document[\"$id\"])\n",
    "else:\n",
    "    print(\"已有类似的文本记录，ID:\", text_documents[\"documents\"][0][\"$id\"])\n",
    "print(\"已有记录的 ID:\", existing_document_id)"
   ]
  },
  {
   "cell_type": "code",
   "execution_count": 1,
   "metadata": {},
   "outputs": [
    {
     "name": "stdout",
     "output_type": "stream",
     "text": [
      "arr is empty\n"
     ]
    }
   ],
   "source": [
    "arr = []\n",
    "if arr:\n",
    "    print(\"arr is not empty\")\n",
    "else:\n",
    "    print(\"arr is empty\")"
   ]
  },
  {
   "cell_type": "code",
   "execution_count": 5,
   "metadata": {},
   "outputs": [
    {
     "name": "stdout",
     "output_type": "stream",
     "text": [
      "4\n"
     ]
    }
   ],
   "source": [
    "import random\n",
    "\n",
    "def random_select(arr):\n",
    "    return random.choice(arr)\n",
    "\n",
    "print(random_select([1, 2, 3, 4, 5]))"
   ]
  },
  {
   "cell_type": "code",
   "execution_count": 11,
   "metadata": {},
   "outputs": [
    {
     "name": "stdout",
     "output_type": "stream",
     "text": [
      "None [3, 2, 1, 4]\n"
     ]
    }
   ],
   "source": [
    "arr = [1,2,3]\n",
    "arr.reverse()\n",
    "arr1 = arr.append(4)\n",
    "print(arr1, arr)"
   ]
  }
 ],
 "metadata": {
  "kernelspec": {
   "display_name": "wencai-scrapy-env",
   "language": "python",
   "name": "python3"
  },
  "language_info": {
   "codemirror_mode": {
    "name": "ipython",
    "version": 3
   },
   "file_extension": ".py",
   "mimetype": "text/x-python",
   "name": "python",
   "nbconvert_exporter": "python",
   "pygments_lexer": "ipython3",
   "version": "3.10.14"
  }
 },
 "nbformat": 4,
 "nbformat_minor": 2
}
